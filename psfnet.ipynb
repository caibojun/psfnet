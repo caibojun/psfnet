{
 "cells": [
  {
   "cell_type": "code",
   "execution_count": 0,
   "metadata": {
    "colab": {},
    "colab_type": "code",
    "id": "sH4z6SuuE0oo"
   },
   "outputs": [],
   "source": [
    "# use github data\n",
    "!git clone https://github.com/caibojun/psfnet.git\n",
    "!mv ./psfnet/* ./\n",
    "!rm -r ./psfnet\n",
    "!rm -r sample_data"
   ]
  },
  {
   "cell_type": "code",
   "execution_count": 0,
   "metadata": {
    "colab": {},
    "colab_type": "code",
    "id": "Lu1v0ORTLl3y"
   },
   "outputs": [],
   "source": [
    "#use your own data\n",
    "from google.colab import files\n",
    "\n",
    "uploaded = files.upload()\n",
    "\n",
    "for fn in uploaded.keys():\n",
    "  print('User uploaded file \"{name}\" with length {length} bytes'.format(\n",
    "      name=fn, length=len(uploaded[fn])))"
   ]
  },
  {
   "cell_type": "code",
   "execution_count": 0,
   "metadata": {
    "colab": {},
    "colab_type": "code",
    "id": "kV6U5fhkLUaj"
   },
   "outputs": [],
   "source": [
    "#create new folders\n",
    "!mkdir ./input\n",
    "!mkdir ./input/trainA\n",
    "!mkdir ./input/trainB\n",
    "!mkdir ./input/valid\n",
    "!mkdir ./input/valid_gt\n",
    "!rm -r sample_data"
   ]
  },
  {
   "cell_type": "code",
   "execution_count": 0,
   "metadata": {
    "colab": {},
    "colab_type": "code",
    "id": "r6R2LrJ4LUZ6"
   },
   "outputs": [],
   "source": [
    "from __future__ import division\n",
    "from mobilenet import *\n",
    "from network import *\n",
    "import tensorflow as tf\n",
    "import numpy as np\n",
    "from astropy.io import fits\n",
    "import os\n"
   ]
  },
  {
   "cell_type": "code",
   "execution_count": 0,
   "metadata": {
    "colab": {},
    "colab_type": "code",
    "id": "RKiPKkCXWTlh"
   },
   "outputs": [],
   "source": [
    "class PSFNET(object):\n",
    "    def __init__(self,sess,img_sz,checkpoint_dir,save_folder,graph_dir,use_mobilenet):\n",
    "        def checkdir(dirpath):\n",
    "            if os.path.isdir(dirpath) is False:\n",
    "                os.mkdir(dirpath)\n",
    "        self.sess = sess\n",
    "        self.sz = img_sz\n",
    "        if use_mobilenet:\n",
    "            self.deconvnet = mobilenet\n",
    "        else:\n",
    "            self.deconvnet = deconv_resnet\n",
    "        self.save_folder = save_folder\n",
    "        self.graph_dir = graph_dir\n",
    "        self.checkpoint_dir=checkpoint_dir\n",
    "        checkdir(self.save_folder)\n",
    "        checkdir(self.checkpoint_dir)\n",
    "        checkdir(self.graph_dir)\n",
    "        self.build_net()\n",
    "        self.saver = tf.train.Saver()\n",
    "\n",
    "\n",
    "\n",
    "    def build_net(self,Lambda=10.0):\n",
    "        def loss(gt,restore,method='mse'):\n",
    "            if method=='mse':\n",
    "                return tf.reduce_mean((gt-restore)**2)\n",
    "            else:\n",
    "                return tf.reduce_mean(tf.abs(gt-restore))\n",
    "\n",
    "        self.blur_data = tf.placeholder(tf.float32,\n",
    "                                        [None, self.sz, self.sz, 1],\n",
    "                                        name='blur_image')\n",
    "        self.gt_data = tf.placeholder(tf.float32,\n",
    "                                        [None, self.sz, self.sz, 1],\n",
    "                                        name='gt_image')\n",
    "        self.restore_data = self.deconvnet(self.blur_data,scope='restore')\n",
    "        self.fake_blur = self.deconvnet(self.gt_data,scope='blur')\n",
    "        self.cycle_restore = self.deconvnet(self.fake_blur,reuse=True,scope='restore')\n",
    "        self.cycle_blur = self.deconvnet(self.restore_data,reuse=True,scope='blur')\n",
    "        self.id_blur = self.deconvnet(self.blur_data,reuse=True,scope='blur')\n",
    "        self.id_restore = self.deconvnet(self.gt_data,reuse=True,scope='restore')\n",
    "\n",
    "        \n",
    "        self.loss = loss(self.blur_data,self.fake_blur,'mae') + loss(self.gt_data,self.restore_data,'mae') + \\\n",
    "                    Lambda*(loss(self.cycle_restore,self.gt_data,'mae') + loss(self.cycle_restore,self.gt_data,'mae')) + \\\n",
    "                    (loss(self.blur_data,self.id_blur,'mae') + loss(self.gt_data,self.id_restore,'mae'))/2\n",
    "\n",
    "    def train_optimizer(self):\n",
    "        self.lr = tf.placeholder(tf.float32, None, name='learning_rate')\n",
    "        self.optim = tf.train.AdamOptimizer(self.lr, beta1=0.5).minimize(self.loss,var_list = tf.trainable_variables())\n",
    "\n",
    "    def train(self,dir_path,EPOCH=500,Continue=False):\n",
    "        if Continue:\n",
    "            init_point = int(raw_input(\"Please input your initiate point:\"))\n",
    "            self.saver.restore(self.sess, os.path.join(self.checkpoint_dir, 'psfnet'))\n",
    "        else:\n",
    "            init_point = 1\n",
    "        self.train_optimizer()\n",
    "        init_op = tf.global_variables_initializer()\n",
    "        self.sess.run(init_op)\n",
    "        summary_writer = tf.summary.FileWriter(self.graph_dir, self.sess.graph)\n",
    "        print('Training...')\n",
    "        def read(img_path):\n",
    "            image = np.float32(fits.open(img_path)[0].data)\n",
    "            image = np.expand_dims(image, axis=0)\n",
    "            image = np.expand_dims(image, axis=-1)\n",
    "            image = 2 * image / np.max(image) - 1.0\n",
    "            return image\n",
    "        def saveimg(savepath,img):\n",
    "            if os.path.isfile(savepath):\n",
    "                os.remove(savepath)\n",
    "            fits.HDUList([fits.PrimaryHDU(img)]).writeto(savepath)\n",
    "        def exponential_decay(t, init=1e-3, m=1000, finish=1e-6): \n",
    "            alpha = np.log(init / finish) / m \n",
    "            l = - np.log(init) / alpha \n",
    "            decay = np.exp(-alpha * (t + l)) \n",
    "            return decay\n",
    "        files = os.listdir(dir_path)\n",
    "#         files.remove('.ipynb_checkpoints')\n",
    "\n",
    "        valid_path = os.path.join(os.path.dirname(dir_path),'valid')\n",
    "        valid_files = os.listdir(valid_path)\n",
    "#         valid_files.remove('.ipynb_checkpoints')\n",
    "        \n",
    "        file_nums=len(files)\n",
    "        for epoch in range(init_point,EPOCH):\n",
    "            Loss = 0\n",
    "            VLoss = 0\n",
    "            lr = 1e-3 if epoch < 30 else exponential_decay(epoch)\n",
    "            for file in files:\n",
    "\n",
    "                img_path = os.path.join(dir_path, file).replace('\\\\','/')\n",
    "                image =read(img_path)\n",
    "                gt_path = os.path.join('input/trainA',file).replace('\\\\','/')\n",
    "                gt = read(gt_path)\n",
    "                _, restored, loss = self.sess.run([self.optim,self.restore_data,self.loss],\n",
    "                                         feed_dict={self.blur_data: image,self.gt_data:gt,self.lr:lr})\n",
    "                restored = restored.reshape([restored.shape[1], restored.shape[2]])\n",
    "                savepath = os.path.join(self.save_folder, file).replace('\\\\','/')\n",
    "                Loss += loss\n",
    "                saveimg(savepath, restored)\n",
    "\n",
    "            for valid in valid_files:\n",
    "                img_path = os.path.join(valid_path, valid).replace('\\\\','/')\n",
    "                image =read(img_path)\n",
    "                valid_gt = os.path.join('input/valid_gt',valid).replace('\\\\','/')\n",
    "                gt = read(valid_gt)\n",
    "                valid_loss = self.sess.run(self.loss,\n",
    "                                         feed_dict={self.blur_data: image,self.gt_data:gt})\n",
    "                VLoss+=valid_loss\n",
    "            print('Epoch {}, mean loss {}, valid_loss {}'.format(epoch,Loss/file_nums,VLoss/len(valid_files)))\n",
    "            self.saver.save(self.sess, os.path.join(self.checkpoint_dir, 'psfnet'))\n",
    "\n",
    "    def predict(self,dir_path):\n",
    "        model = tf.train.latest_checkpoint(self.checkpoint_dir)\n",
    "        self.saver.restore(self.sess, model)\n",
    "\n",
    "        files = os.listdir(dir_path)\n",
    "        for file in files:\n",
    "            print(file)\n",
    "            img_path = os.path.join(dir_path,file)\n",
    "            image = np.float32(fits.open(img_path)[0].data)\n",
    "            image = np.expand_dims(image,axis=0)\n",
    "            image = np.expand_dims(image,axis=-1)\n",
    "            image = 2*image/np.max(image)-1.0\n",
    "            restored = self.sess.run(self.restore_data,feed_dict={self.blur_data:image})\n",
    "            restored = restored.reshape([restored.shape[1],restored.shape[2]])\n",
    "            savepath = os.path.join(self.save_folder,file)\n",
    "            if os.path.isfile(savepath):\n",
    "                os.remove(savepath)\n",
    "            fits.HDUList([fits.PrimaryHDU(restored)]).writeto(savepath)\n",
    "        self.sess.close()"
   ]
  },
  {
   "cell_type": "code",
   "execution_count": 0,
   "metadata": {
    "colab": {},
    "colab_type": "code",
    "id": "GonwaOBfW2cD"
   },
   "outputs": [],
   "source": [
    "!nvidia-smi"
   ]
  },
  {
   "cell_type": "code",
   "execution_count": 0,
   "metadata": {
    "colab": {},
    "colab_type": "code",
    "id": "6TmciRjCWaZp"
   },
   "outputs": [],
   "source": [
    "if __name__ == '__main__':\n",
    "    tfconfig = tf.ConfigProto(allow_soft_placement=True)\n",
    "    tfconfig.gpu_options.allow_growth = True\n",
    "    with tf.Session(config=tfconfig) as sess:\n",
    "        psfnet = PSFNET(sess,200,'checkpoint/','test', 'log',False)\n",
    "        psfnet.train('input/trainB',Continue=False)"
   ]
  },
  {
   "cell_type": "code",
   "execution_count": 0,
   "metadata": {
    "colab": {},
    "colab_type": "code",
    "id": "N0CbMWfDldx7"
   },
   "outputs": [],
   "source": [
    "#down result from google\n",
    "from google.colab import files\n",
    "download_list = os.listdir('test')\n",
    "for file in download_list:\n",
    "    files.download(os.path.join('test',file))"
   ]
  }
 ],
 "metadata": {
  "accelerator": "GPU",
  "colab": {
   "collapsed_sections": [],
   "name": "psfnet.ipynb",
   "private_outputs": true,
   "provenance": [],
   "version": "0.3.2"
  },
  "kernelspec": {
   "display_name": "Python 2",
   "language": "python",
   "name": "python2"
  }
 },
 "nbformat": 4,
 "nbformat_minor": 1
}
